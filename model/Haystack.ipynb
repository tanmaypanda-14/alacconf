{
  "nbformat": 4,
  "nbformat_minor": 0,
  "metadata": {
    "colab": {
      "name": "Haystack.ipynb",
      "provenance": [],
      "authorship_tag": "ABX9TyPtvzTryovM0HcPABvXp/hO"
    },
    "kernelspec": {
      "name": "python3",
      "display_name": "Python 3"
    },
    "language_info": {
      "name": "python"
    }
  },
  "cells": [
    {
      "cell_type": "code",
      "execution_count": 2,
      "metadata": {
        "id": "1gEb6Tj9ndZ1",
        "colab": {
          "base_uri": "https://localhost:8080/"
        },
        "outputId": "269466a6-3ba5-4c8f-ce35-17ecf00f229a"
      },
      "outputs": [
        {
          "output_type": "stream",
          "name": "stdout",
          "text": [
            "Collecting git+https://github.com/deepset-ai/haystack.git@ef9e4f4467a2e265bad72b048a1a3186e40969b1\n",
            "  Cloning https://github.com/deepset-ai/haystack.git (to revision ef9e4f4467a2e265bad72b048a1a3186e40969b1) to /tmp/pip-req-build-byate_g6\n",
            "  Running command git clone -q https://github.com/deepset-ai/haystack.git /tmp/pip-req-build-byate_g6\n",
            "  Running command git rev-parse -q --verify 'sha^ef9e4f4467a2e265bad72b048a1a3186e40969b1'\n",
            "  Running command git fetch -q https://github.com/deepset-ai/haystack.git ef9e4f4467a2e265bad72b048a1a3186e40969b1\n",
            "  Running command git checkout -q ef9e4f4467a2e265bad72b048a1a3186e40969b1\n",
            "Requirement already satisfied: farm==0.4.3 in /usr/local/lib/python3.7/dist-packages (from farm-haystack==0.2.1) (0.4.3)\n",
            "Requirement already satisfied: fastapi in /usr/local/lib/python3.7/dist-packages (from farm-haystack==0.2.1) (0.75.2)\n",
            "Requirement already satisfied: uvicorn in /usr/local/lib/python3.7/dist-packages (from farm-haystack==0.2.1) (0.17.6)\n",
            "Requirement already satisfied: gunicorn in /usr/local/lib/python3.7/dist-packages (from farm-haystack==0.2.1) (20.1.0)\n",
            "Requirement already satisfied: pandas in /usr/local/lib/python3.7/dist-packages (from farm-haystack==0.2.1) (1.3.5)\n",
            "Requirement already satisfied: psycopg2-binary in /usr/local/lib/python3.7/dist-packages (from farm-haystack==0.2.1) (2.9.3)\n",
            "Requirement already satisfied: sklearn in /usr/local/lib/python3.7/dist-packages (from farm-haystack==0.2.1) (0.0)\n",
            "Requirement already satisfied: elasticsearch in /usr/local/lib/python3.7/dist-packages (from farm-haystack==0.2.1) (7.17.3)\n",
            "Requirement already satisfied: elastic-apm in /usr/local/lib/python3.7/dist-packages (from farm-haystack==0.2.1) (6.9.1)\n",
            "Requirement already satisfied: coverage in /usr/local/lib/python3.7/dist-packages (from farm-haystack==0.2.1) (3.7.1)\n",
            "Requirement already satisfied: langdetect in /usr/local/lib/python3.7/dist-packages (from farm-haystack==0.2.1) (1.0.9)\n",
            "Requirement already satisfied: PyMuPDF in /usr/local/lib/python3.7/dist-packages (from farm-haystack==0.2.1) (1.19.6)\n",
            "Requirement already satisfied: flask-restplus in /usr/local/lib/python3.7/dist-packages (from farm==0.4.3->farm-haystack==0.2.1) (0.13.0)\n",
            "Requirement already satisfied: mlflow==1.0.0 in /usr/local/lib/python3.7/dist-packages (from farm==0.4.3->farm-haystack==0.2.1) (1.0.0)\n",
            "Requirement already satisfied: flask in /usr/local/lib/python3.7/dist-packages (from farm==0.4.3->farm-haystack==0.2.1) (1.1.4)\n",
            "Requirement already satisfied: transformers==2.7.0 in /usr/local/lib/python3.7/dist-packages (from farm==0.4.3->farm-haystack==0.2.1) (2.7.0)\n",
            "Requirement already satisfied: scipy>=1.3.2 in /usr/local/lib/python3.7/dist-packages (from farm==0.4.3->farm-haystack==0.2.1) (1.4.1)\n",
            "Requirement already satisfied: onnxruntime in /usr/local/lib/python3.7/dist-packages (from farm==0.4.3->farm-haystack==0.2.1) (1.11.1)\n",
            "Requirement already satisfied: seqeval in /usr/local/lib/python3.7/dist-packages (from farm==0.4.3->farm-haystack==0.2.1) (1.2.2)\n",
            "Requirement already satisfied: wheel in /usr/local/lib/python3.7/dist-packages (from farm==0.4.3->farm-haystack==0.2.1) (0.37.1)\n",
            "Requirement already satisfied: setuptools in /usr/local/lib/python3.7/dist-packages (from farm==0.4.3->farm-haystack==0.2.1) (57.4.0)\n",
            "Requirement already satisfied: torch==1.4.0 in /usr/local/lib/python3.7/dist-packages (from farm==0.4.3->farm-haystack==0.2.1) (1.4.0)\n",
            "Requirement already satisfied: dotmap==1.3.0 in /usr/local/lib/python3.7/dist-packages (from farm==0.4.3->farm-haystack==0.2.1) (1.3.0)\n",
            "Requirement already satisfied: flask-cors in /usr/local/lib/python3.7/dist-packages (from farm==0.4.3->farm-haystack==0.2.1) (3.0.10)\n",
            "Requirement already satisfied: Werkzeug==0.16.1 in /usr/local/lib/python3.7/dist-packages (from farm==0.4.3->farm-haystack==0.2.1) (0.16.1)\n",
            "Requirement already satisfied: requests in /usr/local/lib/python3.7/dist-packages (from farm==0.4.3->farm-haystack==0.2.1) (2.23.0)\n",
            "Requirement already satisfied: boto3 in /usr/local/lib/python3.7/dist-packages (from farm==0.4.3->farm-haystack==0.2.1) (1.22.3)\n",
            "Requirement already satisfied: dill in /usr/local/lib/python3.7/dist-packages (from farm==0.4.3->farm-haystack==0.2.1) (0.3.4)\n",
            "Requirement already satisfied: tqdm in /usr/local/lib/python3.7/dist-packages (from farm==0.4.3->farm-haystack==0.2.1) (4.64.0)\n",
            "Requirement already satisfied: alembic in /usr/local/lib/python3.7/dist-packages (from mlflow==1.0.0->farm==0.4.3->farm-haystack==0.2.1) (1.7.7)\n",
            "Requirement already satisfied: cloudpickle in /usr/local/lib/python3.7/dist-packages (from mlflow==1.0.0->farm==0.4.3->farm-haystack==0.2.1) (1.3.0)\n",
            "Requirement already satisfied: gitpython>=2.1.0 in /usr/local/lib/python3.7/dist-packages (from mlflow==1.0.0->farm==0.4.3->farm-haystack==0.2.1) (3.1.27)\n",
            "Requirement already satisfied: simplejson in /usr/local/lib/python3.7/dist-packages (from mlflow==1.0.0->farm==0.4.3->farm-haystack==0.2.1) (3.17.6)\n",
            "Requirement already satisfied: six>=1.10.0 in /usr/local/lib/python3.7/dist-packages (from mlflow==1.0.0->farm==0.4.3->farm-haystack==0.2.1) (1.15.0)\n",
            "Requirement already satisfied: protobuf>=3.6.0 in /usr/local/lib/python3.7/dist-packages (from mlflow==1.0.0->farm==0.4.3->farm-haystack==0.2.1) (3.17.3)\n",
            "Requirement already satisfied: sqlalchemy in /usr/local/lib/python3.7/dist-packages (from mlflow==1.0.0->farm==0.4.3->farm-haystack==0.2.1) (1.4.35)\n",
            "Requirement already satisfied: click>=7.0 in /usr/local/lib/python3.7/dist-packages (from mlflow==1.0.0->farm==0.4.3->farm-haystack==0.2.1) (7.1.2)\n",
            "Requirement already satisfied: numpy in /usr/local/lib/python3.7/dist-packages (from mlflow==1.0.0->farm==0.4.3->farm-haystack==0.2.1) (1.21.6)\n",
            "Requirement already satisfied: databricks-cli>=0.8.0 in /usr/local/lib/python3.7/dist-packages (from mlflow==1.0.0->farm==0.4.3->farm-haystack==0.2.1) (0.16.6)\n",
            "Requirement already satisfied: python-dateutil in /usr/local/lib/python3.7/dist-packages (from mlflow==1.0.0->farm==0.4.3->farm-haystack==0.2.1) (2.8.2)\n",
            "Requirement already satisfied: querystring-parser in /usr/local/lib/python3.7/dist-packages (from mlflow==1.0.0->farm==0.4.3->farm-haystack==0.2.1) (1.2.4)\n",
            "Requirement already satisfied: docker>=3.6.0 in /usr/local/lib/python3.7/dist-packages (from mlflow==1.0.0->farm==0.4.3->farm-haystack==0.2.1) (5.0.3)\n",
            "Requirement already satisfied: entrypoints in /usr/local/lib/python3.7/dist-packages (from mlflow==1.0.0->farm==0.4.3->farm-haystack==0.2.1) (0.4)\n",
            "Requirement already satisfied: pyyaml in /usr/local/lib/python3.7/dist-packages (from mlflow==1.0.0->farm==0.4.3->farm-haystack==0.2.1) (3.13)\n",
            "Requirement already satisfied: sqlparse in /usr/local/lib/python3.7/dist-packages (from mlflow==1.0.0->farm==0.4.3->farm-haystack==0.2.1) (0.4.2)\n",
            "Requirement already satisfied: tokenizers==0.5.2 in /usr/local/lib/python3.7/dist-packages (from transformers==2.7.0->farm==0.4.3->farm-haystack==0.2.1) (0.5.2)\n",
            "Requirement already satisfied: sacremoses in /usr/local/lib/python3.7/dist-packages (from transformers==2.7.0->farm==0.4.3->farm-haystack==0.2.1) (0.0.49)\n",
            "Requirement already satisfied: filelock in /usr/local/lib/python3.7/dist-packages (from transformers==2.7.0->farm==0.4.3->farm-haystack==0.2.1) (3.6.0)\n",
            "Requirement already satisfied: sentencepiece in /usr/local/lib/python3.7/dist-packages (from transformers==2.7.0->farm==0.4.3->farm-haystack==0.2.1) (0.1.96)\n",
            "Requirement already satisfied: regex!=2019.12.17 in /usr/local/lib/python3.7/dist-packages (from transformers==2.7.0->farm==0.4.3->farm-haystack==0.2.1) (2019.12.20)\n",
            "Requirement already satisfied: pyjwt>=1.7.0 in /usr/local/lib/python3.7/dist-packages (from databricks-cli>=0.8.0->mlflow==1.0.0->farm==0.4.3->farm-haystack==0.2.1) (2.3.0)\n",
            "Requirement already satisfied: oauthlib>=3.1.0 in /usr/local/lib/python3.7/dist-packages (from databricks-cli>=0.8.0->mlflow==1.0.0->farm==0.4.3->farm-haystack==0.2.1) (3.2.0)\n",
            "Requirement already satisfied: tabulate>=0.7.7 in /usr/local/lib/python3.7/dist-packages (from databricks-cli>=0.8.0->mlflow==1.0.0->farm==0.4.3->farm-haystack==0.2.1) (0.8.9)\n",
            "Requirement already satisfied: websocket-client>=0.32.0 in /usr/local/lib/python3.7/dist-packages (from docker>=3.6.0->mlflow==1.0.0->farm==0.4.3->farm-haystack==0.2.1) (1.3.2)\n",
            "Requirement already satisfied: typing-extensions>=3.7.4.3 in /usr/local/lib/python3.7/dist-packages (from gitpython>=2.1.0->mlflow==1.0.0->farm==0.4.3->farm-haystack==0.2.1) (4.2.0)\n",
            "Requirement already satisfied: gitdb<5,>=4.0.1 in /usr/local/lib/python3.7/dist-packages (from gitpython>=2.1.0->mlflow==1.0.0->farm==0.4.3->farm-haystack==0.2.1) (4.0.9)\n",
            "Requirement already satisfied: smmap<6,>=3.0.1 in /usr/local/lib/python3.7/dist-packages (from gitdb<5,>=4.0.1->gitpython>=2.1.0->mlflow==1.0.0->farm==0.4.3->farm-haystack==0.2.1) (5.0.0)\n",
            "Requirement already satisfied: certifi>=2017.4.17 in /usr/local/lib/python3.7/dist-packages (from requests->farm==0.4.3->farm-haystack==0.2.1) (2021.10.8)\n",
            "Requirement already satisfied: idna<3,>=2.5 in /usr/local/lib/python3.7/dist-packages (from requests->farm==0.4.3->farm-haystack==0.2.1) (2.10)\n",
            "Requirement already satisfied: chardet<4,>=3.0.2 in /usr/local/lib/python3.7/dist-packages (from requests->farm==0.4.3->farm-haystack==0.2.1) (3.0.4)\n",
            "Requirement already satisfied: urllib3!=1.25.0,!=1.25.1,<1.26,>=1.21.1 in /usr/local/lib/python3.7/dist-packages (from requests->farm==0.4.3->farm-haystack==0.2.1) (1.25.11)\n",
            "Requirement already satisfied: Mako in /usr/local/lib/python3.7/dist-packages (from alembic->mlflow==1.0.0->farm==0.4.3->farm-haystack==0.2.1) (1.2.0)\n",
            "Requirement already satisfied: importlib-resources in /usr/local/lib/python3.7/dist-packages (from alembic->mlflow==1.0.0->farm==0.4.3->farm-haystack==0.2.1) (5.7.1)\n",
            "Requirement already satisfied: importlib-metadata in /usr/local/lib/python3.7/dist-packages (from alembic->mlflow==1.0.0->farm==0.4.3->farm-haystack==0.2.1) (4.11.3)\n",
            "Requirement already satisfied: greenlet!=0.4.17 in /usr/local/lib/python3.7/dist-packages (from sqlalchemy->mlflow==1.0.0->farm==0.4.3->farm-haystack==0.2.1) (1.1.2)\n",
            "Requirement already satisfied: jmespath<2.0.0,>=0.7.1 in /usr/local/lib/python3.7/dist-packages (from boto3->farm==0.4.3->farm-haystack==0.2.1) (1.0.0)\n",
            "Requirement already satisfied: botocore<1.26.0,>=1.25.3 in /usr/local/lib/python3.7/dist-packages (from boto3->farm==0.4.3->farm-haystack==0.2.1) (1.25.3)\n",
            "Requirement already satisfied: s3transfer<0.6.0,>=0.5.0 in /usr/local/lib/python3.7/dist-packages (from boto3->farm==0.4.3->farm-haystack==0.2.1) (0.5.2)\n",
            "Requirement already satisfied: pydantic!=1.7,!=1.7.1,!=1.7.2,!=1.7.3,!=1.8,!=1.8.1,<2.0.0,>=1.6.2 in /usr/local/lib/python3.7/dist-packages (from fastapi->farm-haystack==0.2.1) (1.9.0)\n",
            "Requirement already satisfied: starlette==0.17.1 in /usr/local/lib/python3.7/dist-packages (from fastapi->farm-haystack==0.2.1) (0.17.1)\n",
            "Requirement already satisfied: anyio<4,>=3.0.0 in /usr/local/lib/python3.7/dist-packages (from starlette==0.17.1->fastapi->farm-haystack==0.2.1) (3.5.0)\n",
            "Requirement already satisfied: sniffio>=1.1 in /usr/local/lib/python3.7/dist-packages (from anyio<4,>=3.0.0->starlette==0.17.1->fastapi->farm-haystack==0.2.1) (1.2.0)\n",
            "Requirement already satisfied: itsdangerous<2.0,>=0.24 in /usr/local/lib/python3.7/dist-packages (from flask->farm==0.4.3->farm-haystack==0.2.1) (1.1.0)\n",
            "Requirement already satisfied: Jinja2<3.0,>=2.10.1 in /usr/local/lib/python3.7/dist-packages (from flask->farm==0.4.3->farm-haystack==0.2.1) (2.11.3)\n",
            "Requirement already satisfied: MarkupSafe>=0.23 in /usr/local/lib/python3.7/dist-packages (from Jinja2<3.0,>=2.10.1->flask->farm==0.4.3->farm-haystack==0.2.1) (2.0.1)\n",
            "Requirement already satisfied: aniso8601>=0.82 in /usr/local/lib/python3.7/dist-packages (from flask-restplus->farm==0.4.3->farm-haystack==0.2.1) (9.0.1)\n",
            "Requirement already satisfied: jsonschema in /usr/local/lib/python3.7/dist-packages (from flask-restplus->farm==0.4.3->farm-haystack==0.2.1) (4.3.3)\n",
            "Requirement already satisfied: pytz in /usr/local/lib/python3.7/dist-packages (from flask-restplus->farm==0.4.3->farm-haystack==0.2.1) (2022.1)\n",
            "Requirement already satisfied: zipp>=0.5 in /usr/local/lib/python3.7/dist-packages (from importlib-metadata->alembic->mlflow==1.0.0->farm==0.4.3->farm-haystack==0.2.1) (3.8.0)\n",
            "Requirement already satisfied: attrs>=17.4.0 in /usr/local/lib/python3.7/dist-packages (from jsonschema->flask-restplus->farm==0.4.3->farm-haystack==0.2.1) (21.4.0)\n",
            "Requirement already satisfied: pyrsistent!=0.17.0,!=0.17.1,!=0.17.2,>=0.14.0 in /usr/local/lib/python3.7/dist-packages (from jsonschema->flask-restplus->farm==0.4.3->farm-haystack==0.2.1) (0.18.1)\n",
            "Requirement already satisfied: flatbuffers in /usr/local/lib/python3.7/dist-packages (from onnxruntime->farm==0.4.3->farm-haystack==0.2.1) (2.0)\n",
            "Requirement already satisfied: joblib in /usr/local/lib/python3.7/dist-packages (from sacremoses->transformers==2.7.0->farm==0.4.3->farm-haystack==0.2.1) (1.1.0)\n",
            "Requirement already satisfied: scikit-learn>=0.21.3 in /usr/local/lib/python3.7/dist-packages (from seqeval->farm==0.4.3->farm-haystack==0.2.1) (1.0.2)\n",
            "Requirement already satisfied: threadpoolctl>=2.0.0 in /usr/local/lib/python3.7/dist-packages (from scikit-learn>=0.21.3->seqeval->farm==0.4.3->farm-haystack==0.2.1) (3.1.0)\n",
            "Requirement already satisfied: h11>=0.8 in /usr/local/lib/python3.7/dist-packages (from uvicorn->farm-haystack==0.2.1) (0.13.0)\n",
            "Requirement already satisfied: asgiref>=3.4.0 in /usr/local/lib/python3.7/dist-packages (from uvicorn->farm-haystack==0.2.1) (3.5.0)\n"
          ]
        }
      ],
      "source": [
        "! pip install git+https://github.com/deepset-ai/haystack.git@ef9e4f4467a2e265bad72b048a1a3186e40969b1"
      ]
    },
    {
      "cell_type": "code",
      "source": [
        "from haystack import Finder\n",
        "from haystack.database.elasticsearch import ElasticsearchDocumentStore\n",
        "\n",
        "from haystack.retriever.elasticsearch import EmbeddingRetriever\n",
        "from haystack.utils import print_answers\n",
        "import pandas as pd\n",
        "import requests"
      ],
      "metadata": {
        "id": "Mg_aaZs6xIGd"
      },
      "execution_count": 3,
      "outputs": []
    },
    {
      "cell_type": "code",
      "source": [
        "! wget https://artifacts.elastic.co/downloads/elasticsearch/elasticsearch-7.6.2-linux-x86_64.tar.gz -q\n",
        "! tar -xzf elasticsearch-7.6.2-linux-x86_64.tar.gz\n",
        "! chown -R daemon:daemon elasticsearch-7.6.2\n",
        "\n",
        "import os\n",
        "from subprocess import Popen, PIPE, STDOUT\n",
        "es_server = Popen(['elasticsearch-7.6.2/bin/elasticsearch'],\n",
        "                   stdout=PIPE, stderr=STDOUT,\n",
        "                   preexec_fn=lambda: os.setuid(1)\n",
        "                  )\n",
        "! sleep 30"
      ],
      "metadata": {
        "id": "1szbJ0pK0EVm"
      },
      "execution_count": 4,
      "outputs": []
    },
    {
      "cell_type": "code",
      "source": [
        "import requests\n",
        "requests.get('http://localhost:9200/_cluster/health').json()"
      ],
      "metadata": {
        "colab": {
          "base_uri": "https://localhost:8080/"
        },
        "id": "hVxwL1Ej0NbG",
        "outputId": "0334f504-bb93-4858-ced6-fe5497841f76"
      },
      "execution_count": 5,
      "outputs": [
        {
          "output_type": "execute_result",
          "data": {
            "text/plain": [
              "{'active_primary_shards': 1,\n",
              " 'active_shards': 1,\n",
              " 'active_shards_percent_as_number': 50.0,\n",
              " 'cluster_name': 'elasticsearch',\n",
              " 'delayed_unassigned_shards': 0,\n",
              " 'initializing_shards': 0,\n",
              " 'number_of_data_nodes': 1,\n",
              " 'number_of_in_flight_fetch': 0,\n",
              " 'number_of_nodes': 1,\n",
              " 'number_of_pending_tasks': 0,\n",
              " 'relocating_shards': 0,\n",
              " 'status': 'yellow',\n",
              " 'task_max_waiting_in_queue_millis': 0,\n",
              " 'timed_out': False,\n",
              " 'unassigned_shards': 1}"
            ]
          },
          "metadata": {},
          "execution_count": 5
        }
      ]
    },
    {
      "cell_type": "code",
      "source": [
        "from haystack.database.elasticsearch import ElasticsearchDocumentStore\n",
        "document_store = ElasticsearchDocumentStore(host=\"localhost\", username=\"\", password=\"\",\n",
        "                                            index=\"document\",\n",
        "                                            text_field=\"answer\",\n",
        "                                            embedding_field=\"question_emb\",\n",
        "                                            embedding_dim=768,\n",
        "                                            excluded_meta_data=[\"question_emb\"])"
      ],
      "metadata": {
        "colab": {
          "base_uri": "https://localhost:8080/"
        },
        "id": "C5jjgGw-2Mwc",
        "outputId": "b896974b-bd2f-448c-e3e4-18f04061195c"
      },
      "execution_count": 6,
      "outputs": [
        {
          "output_type": "stream",
          "name": "stderr",
          "text": [
            "04/29/2022 15:53:33 - INFO - elasticsearch -   GET http://localhost:9200/ [status:200 request:0.006s]\n",
            "04/29/2022 15:53:33 - INFO - elasticsearch -   PUT http://localhost:9200/document [status:400 request:0.006s]\n"
          ]
        }
      ]
    },
    {
      "cell_type": "code",
      "source": [
        "print(requests.get('http://localhost:9200/_cat/indices').text)"
      ],
      "metadata": {
        "colab": {
          "base_uri": "https://localhost:8080/"
        },
        "id": "UFFx5PHa0UzD",
        "outputId": "c2a444d2-3af2-489a-9853-55032f7e4d04"
      },
      "execution_count": 7,
      "outputs": [
        {
          "output_type": "stream",
          "name": "stdout",
          "text": [
            "yellow open document n_gOXTZDQGqVpq4W9n3gsA 1 1 180 0 2.6mb 2.6mb\n",
            "\n"
          ]
        }
      ]
    },
    {
      "cell_type": "code",
      "source": [
        "retriever = EmbeddingRetriever(document_store=document_store, embedding_model=\"deepset/sentence_bert\", gpu=False)"
      ],
      "metadata": {
        "colab": {
          "base_uri": "https://localhost:8080/"
        },
        "id": "mQjQMw-X1z76",
        "outputId": "6a73c9a9-8a25-487f-adb7-dba946820749"
      },
      "execution_count": 8,
      "outputs": [
        {
          "output_type": "stream",
          "name": "stderr",
          "text": [
            "04/29/2022 15:53:33 - INFO - haystack.retriever.elasticsearch -   Init retriever using embeddings of model deepset/sentence_bert\n",
            "04/29/2022 15:53:33 - INFO - farm.utils -   device: cpu n_gpu: 0, distributed training: False, automatic mixed precision training: None\n",
            "04/29/2022 15:53:33 - INFO - farm.infer -   Could not find `deepset/sentence_bert` locally. Try to download from model hub ...\n",
            "04/29/2022 15:53:36 - WARNING - farm.modeling.language_model -   Could not automatically detect from language model name what language it is. \n",
            "\t We guess it's an *ENGLISH* model ... \n",
            "\t If not: Init the language model by supplying the 'language' param.\n",
            "04/29/2022 15:53:36 - INFO - farm.utils -   device: cpu n_gpu: 0, distributed training: False, automatic mixed precision training: None\n"
          ]
        }
      ]
    },
    {
      "cell_type": "code",
      "source": [
        "temp = requests.get(\"https://raw.githubusercontent.com/uneconomicalfairy14/samvadhini/master/model/faq.csv\")\n",
        "open('faq.csv', 'wb').write(temp.content)\n",
        "df = pd.read_csv(\"faq.csv\")\n",
        "df.fillna(value=\"\", inplace=True)\n",
        "df[\"question\"] = df[\"question\"].apply(lambda x: x.strip())\n",
        "print(df.head())\n",
        "questions = list(df[\"question\"].values)\n",
        "df[\"question_emb\"] = retriever.create_embedding(texts=questions)\n",
        "docs_to_index = df.to_dict(orient=\"records\")\n",
        "document_store.write_documents(docs_to_index)"
      ],
      "metadata": {
        "colab": {
          "base_uri": "https://localhost:8080/"
        },
        "id": "0EeN1ysJ3GKl",
        "outputId": "1dc8d6d0-6cc5-463a-8745-75524f2541cd"
      },
      "execution_count": 9,
      "outputs": [
        {
          "output_type": "stream",
          "name": "stdout",
          "text": [
            "                                                                          question  \\\n",
            "0                                          What if I need to know my correct CGPA?   \n",
            "1  I have cleared my backlog but the result sheet does not show GPA and CGPA. Why?   \n",
            "2  I have cleared my backlog, but the result on ERP is not updated .It still sh...   \n",
            "3                               What do I do if I have not received my grade card?   \n",
            "4  My name/Father's Name/Mother's name is incorrect on grade card. How do I get...   \n",
            "\n",
            "                                                                            answer  \\\n",
            "0  CGPA is seen on the grade card. The CGPA count can be verified by referring ...   \n",
            "1   GPA and CGPA are not mentioned on backlog grade cards. GPA, CGPA will be hi...   \n",
            "2   Grade card shows first attempt GPA and CGPA only. Hence, even if you have c...   \n",
            "3  Grade cards should be collected from the student section of your Department....   \n",
            "4   Name correction on grade cards/PDC needs to be done in ERP at the office of...   \n",
            "\n",
            "                         category  \n",
            "0                      grade card  \n",
            "1                      grade card  \n",
            "2                      grade card  \n",
            "3                      grade card  \n",
            "4  Corrections on grade card /PDC  \n"
          ]
        },
        {
          "output_type": "stream",
          "name": "stderr",
          "text": [
            "Inferencing Samples: 100%|██████████| 23/23 [03:06<00:00,  8.11s/ Batches]\n",
            "04/29/2022 15:56:43 - INFO - elasticsearch -   POST http://localhost:9200/_bulk [status:200 request:0.225s]\n"
          ]
        }
      ]
    },
    {
      "cell_type": "code",
      "source": [
        "finder = Finder(reader=None, retriever=retriever)\n",
        "prediction = finder.get_answers_via_similar_questions(question=\"father name wrong on grade card\", top_k_retriever=10)\n",
        "print_answers(prediction, details=\"all\")"
      ],
      "metadata": {
        "colab": {
          "base_uri": "https://localhost:8080/"
        },
        "id": "b3breZqq3oUB",
        "outputId": "57055b47-fbbf-40c8-ebac-b3ed81c4e329"
      },
      "execution_count": 12,
      "outputs": [
        {
          "output_type": "stream",
          "name": "stderr",
          "text": [
            "Inferencing Samples: 100%|██████████| 1/1 [00:02<00:00,  2.15s/ Batches]\n",
            "/usr/local/lib/python3.7/dist-packages/elasticsearch/connection/base.py:200: ElasticsearchWarning: The vector functions of the form function(query, doc['field']) are deprecated, and the form function(query, 'field') should be used instead. For example, cosineSimilarity(query, doc['field']) is replaced by cosineSimilarity(query, 'field').\n",
            "  warnings.warn(message, category=ElasticsearchWarning)\n",
            "04/29/2022 16:00:02 - INFO - elasticsearch -   POST http://localhost:9200/document/_search [status:200 request:0.045s]\n"
          ]
        },
        {
          "output_type": "stream",
          "name": "stdout",
          "text": [
            "{   'answers': [   {   'answer': ' Name correction on grade cards/PDC needs to '\n",
            "                                 'be done in ERP at the office of student '\n",
            "                                 'section of your Department. Kindly contact '\n",
            "                                 'the office of student section for the making '\n",
            "                                 'the required corrections in ERP. Moreover, '\n",
            "                                 'student must check his/her personal details '\n",
            "                                 'from time to time in their ERP login.',\n",
            "                       'context': ' Name correction on grade cards/PDC needs '\n",
            "                                  'to be done in ERP at the office of student '\n",
            "                                  'section of your Department. Kindly contact '\n",
            "                                  'the office of student section for the '\n",
            "                                  'making the required corrections in ERP. '\n",
            "                                  'Moreover, student must check his/her '\n",
            "                                  'personal details from time to time in their '\n",
            "                                  'ERP login.',\n",
            "                       'meta': {   'category': 'Corrections on grade card /PDC',\n",
            "                                   'name': None,\n",
            "                                   'question': \"My name/Father's Name/Mother's \"\n",
            "                                               'name is incorrect on grade '\n",
            "                                               'card. How do I get it '\n",
            "                                               'corrected?'},\n",
            "                       'offset_end': 297,\n",
            "                       'offset_start': 0,\n",
            "                       'probability': 0.84072805,\n",
            "                       'question': \"My name/Father's Name/Mother's name is \"\n",
            "                                   'incorrect on grade card. How do I get it '\n",
            "                                   'corrected?',\n",
            "                       'score': 0.6814560999999999},\n",
            "                   {   'answer': ' Name correction on grade cards/PDC needs to '\n",
            "                                 'be done in ERP at the office of student '\n",
            "                                 'section of your Department. Kindly contact '\n",
            "                                 'the office of student section for the making '\n",
            "                                 'the required corrections in ERP. Moreover, '\n",
            "                                 'student must check his/her personal details '\n",
            "                                 'from time to time in their ERP login.',\n",
            "                       'context': ' Name correction on grade cards/PDC needs '\n",
            "                                  'to be done in ERP at the office of student '\n",
            "                                  'section of your Department. Kindly contact '\n",
            "                                  'the office of student section for the '\n",
            "                                  'making the required corrections in ERP. '\n",
            "                                  'Moreover, student must check his/her '\n",
            "                                  'personal details from time to time in their '\n",
            "                                  'ERP login.',\n",
            "                       'meta': {   'category': 'Corrections on grade card /PDC',\n",
            "                                   'name': None,\n",
            "                                   'question': \"My name/Father's Name/Mother's \"\n",
            "                                               'name is incorrect on grade '\n",
            "                                               'card. How do I get it '\n",
            "                                               'corrected?'},\n",
            "                       'offset_end': 297,\n",
            "                       'offset_start': 0,\n",
            "                       'probability': 0.84072805,\n",
            "                       'question': \"My name/Father's Name/Mother's name is \"\n",
            "                                   'incorrect on grade card. How do I get it '\n",
            "                                   'corrected?',\n",
            "                       'score': 0.6814560999999999},\n",
            "                   {   'answer': ' Name correction on grade cards/PDC needs to '\n",
            "                                 'be done in ERP at the office of student '\n",
            "                                 'section of your Department. Kindly contact '\n",
            "                                 'the office of student section for the making '\n",
            "                                 'the required corrections in ERP. Moreover, '\n",
            "                                 'student must check his/her personal details '\n",
            "                                 'from time to time in their ERP login.',\n",
            "                       'context': ' Name correction on grade cards/PDC needs '\n",
            "                                  'to be done in ERP at the office of student '\n",
            "                                  'section of your Department. Kindly contact '\n",
            "                                  'the office of student section for the '\n",
            "                                  'making the required corrections in ERP. '\n",
            "                                  'Moreover, student must check his/her '\n",
            "                                  'personal details from time to time in their '\n",
            "                                  'ERP login.',\n",
            "                       'meta': {   'category': 'Corrections on grade card /PDC',\n",
            "                                   'name': None,\n",
            "                                   'question': \"My name/Father's Name/Mother's \"\n",
            "                                               'name is incorrect on grade '\n",
            "                                               'card. How do I get it '\n",
            "                                               'corrected?'},\n",
            "                       'offset_end': 297,\n",
            "                       'offset_start': 0,\n",
            "                       'probability': 0.84072805,\n",
            "                       'question': \"My name/Father's Name/Mother's name is \"\n",
            "                                   'incorrect on grade card. How do I get it '\n",
            "                                   'corrected?',\n",
            "                       'score': 0.6814560999999999},\n",
            "                   {   'answer': 'Grade cards should be collected from the '\n",
            "                                 'student section of your Department. If your '\n",
            "                                 'grade card is not available at the student '\n",
            "                                 'section then you must fill the student '\n",
            "                                 'assistance form '\n",
            "                                 '(https://mitwpu.edu.in/imaqes/documents/Student-Assistant-Form.pdf)  '\n",
            "                                 'at  Department of Examination and get the '\n",
            "                                 'remark from the student section on it and '\n",
            "                                 'submit to Examination Department.Corrections '\n",
            "                                 'on grade card /PDC',\n",
            "                       'context': 'Grade cards should be collected from the '\n",
            "                                  'student section of your Department. If your '\n",
            "                                  'grade card is not available at the student '\n",
            "                                  'section then you must fill the student '\n",
            "                                  'assistance form '\n",
            "                                  '(https://mitwpu.edu.in/imaqes/documents/Student-Assistant-Form.pdf)  '\n",
            "                                  'at  Department of Examination and get the '\n",
            "                                  'remark from the student section on it and '\n",
            "                                  'submit to Examination '\n",
            "                                  'Department.Corrections on grade card /PDC',\n",
            "                       'meta': {   'category': 'grade card',\n",
            "                                   'name': None,\n",
            "                                   'question': 'What do I do if I have not '\n",
            "                                               'received my grade card?'},\n",
            "                       'offset_end': 399,\n",
            "                       'offset_start': 0,\n",
            "                       'probability': 0.7225986,\n",
            "                       'question': 'What do I do if I have not received my '\n",
            "                                   'grade card?',\n",
            "                       'score': 0.44519719999999996},\n",
            "                   {   'answer': 'Grade cards should be collected from the '\n",
            "                                 'student section of your Department. If your '\n",
            "                                 'grade card is not available at the student '\n",
            "                                 'section then you must fill the student '\n",
            "                                 'assistance form '\n",
            "                                 '(https://mitwpu.edu.in/imaqes/documents/Student-Assistant-Form.pdf)  '\n",
            "                                 'at  Department of Examination and get the '\n",
            "                                 'remark from the student section on it and '\n",
            "                                 'submit to Examination Department.Corrections '\n",
            "                                 'on grade card /PDC',\n",
            "                       'context': 'Grade cards should be collected from the '\n",
            "                                  'student section of your Department. If your '\n",
            "                                  'grade card is not available at the student '\n",
            "                                  'section then you must fill the student '\n",
            "                                  'assistance form '\n",
            "                                  '(https://mitwpu.edu.in/imaqes/documents/Student-Assistant-Form.pdf)  '\n",
            "                                  'at  Department of Examination and get the '\n",
            "                                  'remark from the student section on it and '\n",
            "                                  'submit to Examination '\n",
            "                                  'Department.Corrections on grade card /PDC',\n",
            "                       'meta': {   'category': 'grade card',\n",
            "                                   'name': None,\n",
            "                                   'question': 'What do I do if I have not '\n",
            "                                               'received my grade card?'},\n",
            "                       'offset_end': 399,\n",
            "                       'offset_start': 0,\n",
            "                       'probability': 0.7225986,\n",
            "                       'question': 'What do I do if I have not received my '\n",
            "                                   'grade card?',\n",
            "                       'score': 0.44519719999999996},\n",
            "                   {   'answer': 'Grade cards should be collected from the '\n",
            "                                 'student section of your Department. If your '\n",
            "                                 'grade card is not available at the student '\n",
            "                                 'section then you must fill the student '\n",
            "                                 'assistance form '\n",
            "                                 '(https://mitwpu.edu.in/imaqes/documents/Student-Assistant-Form.pdf)  '\n",
            "                                 'at  Department of Examination and get the '\n",
            "                                 'remark from the student section on it and '\n",
            "                                 'submit to Examination Department.Corrections '\n",
            "                                 'on grade card /PDC',\n",
            "                       'context': 'Grade cards should be collected from the '\n",
            "                                  'student section of your Department. If your '\n",
            "                                  'grade card is not available at the student '\n",
            "                                  'section then you must fill the student '\n",
            "                                  'assistance form '\n",
            "                                  '(https://mitwpu.edu.in/imaqes/documents/Student-Assistant-Form.pdf)  '\n",
            "                                  'at  Department of Examination and get the '\n",
            "                                  'remark from the student section on it and '\n",
            "                                  'submit to Examination '\n",
            "                                  'Department.Corrections on grade card /PDC',\n",
            "                       'meta': {   'category': 'grade card',\n",
            "                                   'name': None,\n",
            "                                   'question': 'What do I do if I have not '\n",
            "                                               'received my grade card?'},\n",
            "                       'offset_end': 399,\n",
            "                       'offset_start': 0,\n",
            "                       'probability': 0.7225986,\n",
            "                       'question': 'What do I do if I have not received my '\n",
            "                                   'grade card?',\n",
            "                       'score': 0.44519719999999996},\n",
            "                   {   'answer': ' Grade card is issued only once. In case, '\n",
            "                                 'you have lost your grade card, you can apply '\n",
            "                                 'for a duplicate grade card only.',\n",
            "                       'context': ' Grade card is issued only once. In case, '\n",
            "                                  'you have lost your grade card, you can '\n",
            "                                  'apply for a duplicate grade card only.',\n",
            "                       'meta': {   'category': 'Duplicate Grade Card',\n",
            "                                   'name': None,\n",
            "                                   'question': 'I have lost my grade card? Can '\n",
            "                                               'I get another copy of grade '\n",
            "                                               'card?'},\n",
            "                       'offset_end': 119,\n",
            "                       'offset_start': 0,\n",
            "                       'probability': 0.716664,\n",
            "                       'question': 'I have lost my grade card? Can I get '\n",
            "                                   'another copy of grade card?',\n",
            "                       'score': 0.43332799999999994},\n",
            "                   {   'answer': ' Grade card is issued only once. In case, '\n",
            "                                 'you have lost your grade card, you can apply '\n",
            "                                 'for a duplicate grade card only.',\n",
            "                       'context': ' Grade card is issued only once. In case, '\n",
            "                                  'you have lost your grade card, you can '\n",
            "                                  'apply for a duplicate grade card only.',\n",
            "                       'meta': {   'category': 'Duplicate Grade Card',\n",
            "                                   'name': None,\n",
            "                                   'question': 'I have lost my grade card? Can '\n",
            "                                               'I get another copy of grade '\n",
            "                                               'card?'},\n",
            "                       'offset_end': 119,\n",
            "                       'offset_start': 0,\n",
            "                       'probability': 0.716664,\n",
            "                       'question': 'I have lost my grade card? Can I get '\n",
            "                                   'another copy of grade card?',\n",
            "                       'score': 0.43332799999999994},\n",
            "                   {   'answer': ' Grade card is issued only once. In case, '\n",
            "                                 'you have lost your grade card, you can apply '\n",
            "                                 'for a duplicate grade card only.',\n",
            "                       'context': ' Grade card is issued only once. In case, '\n",
            "                                  'you have lost your grade card, you can '\n",
            "                                  'apply for a duplicate grade card only.',\n",
            "                       'meta': {   'category': 'Duplicate Grade Card',\n",
            "                                   'name': None,\n",
            "                                   'question': 'I have lost my grade card? Can '\n",
            "                                               'I get another copy of grade '\n",
            "                                               'card?'},\n",
            "                       'offset_end': 119,\n",
            "                       'offset_start': 0,\n",
            "                       'probability': 0.716664,\n",
            "                       'question': 'I have lost my grade card? Can I get '\n",
            "                                   'another copy of grade card?',\n",
            "                       'score': 0.43332799999999994},\n",
            "                   {   'answer': 'Consolidated grade card shows revised result '\n",
            "                                 'of only one trimester with revised GPA where '\n",
            "                                 'as a transcript is a document that includes '\n",
            "                                 'updated results of all trimesters with '\n",
            "                                 'revised GPA and CGPA trimester wise.',\n",
            "                       'context': 'Consolidated grade card shows revised '\n",
            "                                  'result of only one trimester with revised '\n",
            "                                  'GPA where as a transcript is a document '\n",
            "                                  'that includes updated results of all '\n",
            "                                  'trimesters with revised GPA and CGPA '\n",
            "                                  'trimester wise.',\n",
            "                       'meta': {   'category': 'Consolidated grade card',\n",
            "                                   'name': None,\n",
            "                                   'question': 'How is a Consolidated Grade '\n",
            "                                               'Card different from a '\n",
            "                                               'transcript?'},\n",
            "                       'offset_end': 209,\n",
            "                       'offset_start': 0,\n",
            "                       'probability': 0.6942978,\n",
            "                       'question': 'How is a Consolidated Grade Card different '\n",
            "                                   'from a transcript?',\n",
            "                       'score': 0.38859559999999993}],\n",
            "    'question': 'father name wrong on grade card'}\n"
          ]
        }
      ]
    },
    {
      "cell_type": "code",
      "source": [
        "from haystack.pipelines import FAQPipeline\n",
        "\n",
        "pipe = FAQPipeline(retriever=retriever)\n",
        "from haystack.utils import print_answers\n",
        "\n",
        "prediction = pipe.run(query=\"How is the virus spreading?\", params={\"Retriever\": {\"top_k\": 10}})\n",
        "print_answers(prediction, details=\"medium\")"
      ],
      "metadata": {
        "id": "gzVNOuLlCpPB"
      },
      "execution_count": null,
      "outputs": []
    },
    {
      "cell_type": "code",
      "source": [
        "from haystack import Pipeline\n",
        "from haystack.utils import launch_es\n",
        "from haystack.document_stores import ElasticsearchDocumentStore\n",
        "from haystack.nodes import BM25Retriever, EmbeddingRetriever, FARMReader\n",
        "\n",
        "launch_es()\n",
        "document_store = ElasticsearchDocumentStore()\n",
        "document_store.delete_documents()\n",
        "document_store.write_documents(got_docs)\n",
        "es_retriever = BM25Retriever(document_store=document_store)\n",
        "embedding_retriever = EmbeddingRetriever(\n",
        "    document_store,\n",
        "    model_format=\"sentence_transformers\",\n",
        "    embedding_model=\"sentence-transformers/multi-qa-mpnet-base-dot-v1\",\n",
        ")\n",
        "document_store.update_embeddings(embedding_retriever, update_existing_embeddings=False)\n",
        "reader = FARMReader(model_name_or_path=\"deepset/roberta-base-squad2\")"
      ],
      "metadata": {
        "id": "wf82qAAOP8mx"
      },
      "execution_count": null,
      "outputs": []
    }
  ]
}